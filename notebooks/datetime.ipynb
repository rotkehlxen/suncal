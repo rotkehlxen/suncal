{
 "cells": [
  {
   "cell_type": "code",
   "execution_count": 99,
   "id": "sudden-clear",
   "metadata": {},
   "outputs": [],
   "source": [
    "import datetime as dt\n",
    "from pydantic import BaseModel, validator, root_validator\n",
    "from typing import Optional\n",
    "import json\n",
    "import pytz\n",
    "import pickle"
   ]
  },
  {
   "cell_type": "code",
   "execution_count": 3,
   "id": "skilled-dating",
   "metadata": {},
   "outputs": [],
   "source": [
    "# datetime constructor with time zone information\n",
    "# class datetime.datetime(year, month, day, hour=0, minute=0, second=0, microsecond=0, tzinfo=None, *, fold=0)\n",
    "\n",
    "# tzinfo can be of class dt.timezone\n",
    "# offset argument of dt.timezone has to be a dt.timedelta object\n",
    "# name   argument of dt.timezone is optional\n",
    "test_time = dt.datetime(2021, 2, 28, hour=16, minute=30, second=0, \n",
    "                        tzinfo=dt.timezone(offset=dt.timedelta(hours=1), name=\"Europe/Berlin\"))"
   ]
  },
  {
   "cell_type": "code",
   "execution_count": 4,
   "id": "fantastic-given",
   "metadata": {},
   "outputs": [
    {
     "data": {
      "text/plain": [
       "'04:30 PM'"
      ]
     },
     "execution_count": 4,
     "metadata": {},
     "output_type": "execute_result"
    }
   ],
   "source": [
    "# convert to am/pm format\n",
    "test_time.strftime(\"%I:%M %p\")"
   ]
  },
  {
   "cell_type": "code",
   "execution_count": 5,
   "id": "matched-bronze",
   "metadata": {},
   "outputs": [],
   "source": [
    "# create list of dates from to (including from and to)\n",
    "from_t = dt.date(2021, 2, 1)\n",
    "to_t = dt.date(2021, 2, 4)"
   ]
  },
  {
   "cell_type": "code",
   "execution_count": 6,
   "id": "hidden-priority",
   "metadata": {},
   "outputs": [
    {
     "data": {
      "text/plain": [
       "[datetime.date(2021, 2, 1),\n",
       " datetime.date(2021, 2, 2),\n",
       " datetime.date(2021, 2, 3),\n",
       " datetime.date(2021, 2, 4)]"
      ]
     },
     "execution_count": 6,
     "metadata": {},
     "output_type": "execute_result"
    }
   ],
   "source": [
    "# list comprehension\n",
    "[from_t + dt.timedelta(days=i)  for i in range((to_t - from_t).days + 1)]"
   ]
  },
  {
   "cell_type": "markdown",
   "id": "contrary-button",
   "metadata": {},
   "source": [
    "## Solving the payload issue"
   ]
  },
  {
   "cell_type": "code",
   "execution_count": 48,
   "id": "satisfactory-savings",
   "metadata": {},
   "outputs": [],
   "source": [
    "class GoogleCalTime(BaseModel):\n",
    "    \"\"\"\n",
    "    Can fill the \"start\" or \"end\" required field of a GoogleCalEvent!\n",
    "    Has three fields: date, dateTime and timeZone, however, not all of them are required at a time.\n",
    "\n",
    "    need date for all day events and dateTime for timed events\n",
    "    timeZone: IANA timezone db name, NOT required if dateTime contains a time offset\n",
    "    \"\"\"\n",
    "\n",
    "    date: Optional[dt.date] = None\n",
    "    dateTime: Optional[dt.datetime] = None\n",
    "    timeZone: Optional[str] = None\n",
    "\n",
    "    # make sure that either date OR dateTime is provided (but not both at the same time)\n",
    "    @root_validator(pre=True)\n",
    "    def date_or_dateTime_provided(cls, values):\n",
    "        date, datetime = values.get('date'), values.get('dateTime')\n",
    "        assert (date is None and datetime is not None) or (date is not None and datetime is None), \\\n",
    "            \"You have to provide a date for all day events OR a datetime for timed events!\"\n",
    "        return values\n",
    "\n",
    "    # TODO: The next two TODO items are not required for this particular application, as astral will always return ...\n",
    "    # TODO: ... datetime objects with timezone offset:\n",
    "    # TODO: 1. check for valid IANA timezone names\n",
    "    # TODO: 2. check that timezone is provided when dateTime does not contain a timezone offset\n",
    "\n",
    "\n",
    "class GoogleCalEvent(BaseModel):\n",
    "    \"\"\" The only required parameters of a google cal event are start and end. 'summary' is the correct\n",
    "      field name of the event title. Can add additional fields later on when needed. \"\"\"\n",
    "    start: GoogleCalTime\n",
    "    end: GoogleCalTime\n",
    "    summary: str\n",
    "    transparency: str = 'transparent'\n",
    "\n",
    "    def payload(self):\n",
    "        \"\"\"pydantic provides method json() that serializes our model, especially datetime objects are converted\n",
    "        to the isoformat sring automatically! For example, if a is an instance of GoogleCalEvent, we get sth like\n",
    "\n",
    "        a.json() = '{\"start\": {\"date\": null, \"dateTime\": \"2011-11-04T00:05:23+04:00\", \"timeZone\": null},\n",
    "                     \"end\": {\"date\": null, \"dateTime\": \"2011-11-05T00:05:23+04:00\", \"timeZone\": null},\n",
    "                     \"summary\": \"Calender event\"}'\n",
    "\n",
    "        This is almost what we want! We only have to create a dict from this json string and maybe we have to remove\n",
    "        all fields containing null values (but maybe not!). This should be implemented in the payload method.\n",
    "        \"\"\"\n",
    "        return json.loads(self.json())"
   ]
  },
  {
   "cell_type": "code",
   "execution_count": 49,
   "id": "cheap-limit",
   "metadata": {},
   "outputs": [],
   "source": [
    "start = GoogleCalTime(dateTime=test_time)\n",
    "end = GoogleCalTime(dateTime=test_time + dt.timedelta(days=1))\n",
    "event = GoogleCalEvent(summary=\"fake event\", start=start, end=end)"
   ]
  },
  {
   "cell_type": "code",
   "execution_count": 50,
   "id": "possible-blanket",
   "metadata": {},
   "outputs": [
    {
     "name": "stdout",
     "output_type": "stream",
     "text": [
      "{\"start\": {\"date\": null, \"dateTime\": \"2021-02-28T16:30:00+01:00\", \"timeZone\": null}, \"end\": {\"date\": null, \"dateTime\": \"2021-03-01T16:30:00+01:00\", \"timeZone\": null}, \"summary\": \"fake event\", \"transparency\": \"transparent\"}\n"
     ]
    }
   ],
   "source": [
    "print(event.json())"
   ]
  },
  {
   "cell_type": "code",
   "execution_count": 51,
   "id": "thermal-parent",
   "metadata": {},
   "outputs": [
    {
     "name": "stdout",
     "output_type": "stream",
     "text": [
      "{'start': {'date': None, 'dateTime': datetime.datetime(2021, 2, 28, 16, 30, tzinfo=datetime.timezone(datetime.timedelta(seconds=3600), 'Europe/Berlin')), 'timeZone': None}, 'end': {'date': None, 'dateTime': datetime.datetime(2021, 3, 1, 16, 30, tzinfo=datetime.timezone(datetime.timedelta(seconds=3600), 'Europe/Berlin')), 'timeZone': None}, 'summary': 'fake event', 'transparency': 'transparent'}\n"
     ]
    }
   ],
   "source": [
    "print(event.dict())"
   ]
  },
  {
   "cell_type": "code",
   "execution_count": 52,
   "id": "caring-imperial",
   "metadata": {},
   "outputs": [
    {
     "data": {
      "text/plain": [
       "datetime.datetime(2021, 2, 28, 16, 30, tzinfo=datetime.timezone(datetime.timedelta(seconds=3600), 'Europe/Berlin'))"
      ]
     },
     "execution_count": 52,
     "metadata": {},
     "output_type": "execute_result"
    }
   ],
   "source": [
    "event.dict()['start']['dateTime']"
   ]
  },
  {
   "cell_type": "code",
   "execution_count": 53,
   "id": "authorized-walnut",
   "metadata": {},
   "outputs": [],
   "source": [
    "event_dict=json.loads(event.json())"
   ]
  },
  {
   "cell_type": "code",
   "execution_count": 54,
   "id": "confused-permit",
   "metadata": {},
   "outputs": [
    {
     "data": {
      "text/plain": [
       "dict"
      ]
     },
     "execution_count": 54,
     "metadata": {},
     "output_type": "execute_result"
    }
   ],
   "source": [
    "type(event_dict)"
   ]
  },
  {
   "cell_type": "code",
   "execution_count": 55,
   "id": "established-hands",
   "metadata": {},
   "outputs": [
    {
     "data": {
      "text/plain": [
       "{'start': {'date': None,\n",
       "  'dateTime': '2021-02-28T16:30:00+01:00',\n",
       "  'timeZone': None},\n",
       " 'end': {'date': None,\n",
       "  'dateTime': '2021-03-01T16:30:00+01:00',\n",
       "  'timeZone': None},\n",
       " 'summary': 'fake event',\n",
       " 'transparency': 'transparent'}"
      ]
     },
     "execution_count": 55,
     "metadata": {},
     "output_type": "execute_result"
    }
   ],
   "source": [
    "event_dict"
   ]
  },
  {
   "cell_type": "code",
   "execution_count": 56,
   "id": "middle-inside",
   "metadata": {},
   "outputs": [
    {
     "data": {
      "text/plain": [
       "True"
      ]
     },
     "execution_count": 56,
     "metadata": {},
     "output_type": "execute_result"
    }
   ],
   "source": [
    "event_dict['start']['date'] is None"
   ]
  },
  {
   "cell_type": "markdown",
   "id": "architectural-playing",
   "metadata": {},
   "source": [
    "### Creating a timezone-aware datetime"
   ]
  },
  {
   "cell_type": "code",
   "execution_count": 21,
   "id": "equal-speed",
   "metadata": {},
   "outputs": [],
   "source": [
    "naive_datetime = dt.datetime(2021, 2, 28, hour=16, minute=30, second=0)\n",
    "timezone = pytz.timezone('Europe/Berlin')\n",
    "aware_datetime =  timezone.localize(naive_datetime) "
   ]
  },
  {
   "cell_type": "code",
   "execution_count": 22,
   "id": "wireless-ocean",
   "metadata": {},
   "outputs": [
    {
     "data": {
      "text/plain": [
       "datetime.datetime(2021, 2, 28, 16, 30, tzinfo=<DstTzInfo 'Europe/Berlin' CET+1:00:00 STD>)"
      ]
     },
     "execution_count": 22,
     "metadata": {},
     "output_type": "execute_result"
    }
   ],
   "source": [
    "aware_datetime"
   ]
  },
  {
   "cell_type": "code",
   "execution_count": 58,
   "id": "superior-albania",
   "metadata": {},
   "outputs": [],
   "source": [
    "def create_timezone_aware_datetime(year: int, month: int, day: int,\n",
    "                                   hour: int, minute: int, second: int, timezone: str) -> dt.datetime:\n",
    "    \"\"\"Create timezone aware datetime object using the IANA timezone string, e.g.  'Europe/Berlin'.\"\"\"\n",
    "\n",
    "    naive_datetime = dt.datetime(year=year, month=month, day=day, hour=hour, minute=minute, second=second)\n",
    "    timezone = pytz.timezone(timezone)\n",
    "    aware_datetime = timezone.localize(naive_datetime)\n",
    "    return aware_datetime"
   ]
  },
  {
   "cell_type": "code",
   "execution_count": 85,
   "id": "central-breathing",
   "metadata": {},
   "outputs": [],
   "source": [
    "aware_time = create_timezone_aware_datetime(2021, 4, 22, 5, 31, 13, \"Europe/Berlin\")"
   ]
  },
  {
   "cell_type": "code",
   "execution_count": 86,
   "id": "moderate-highlight",
   "metadata": {},
   "outputs": [
    {
     "data": {
      "text/plain": [
       "datetime.datetime(2021, 4, 22, 5, 31, 13, tzinfo=<DstTzInfo 'Europe/Berlin' CEST+2:00:00 DST>)"
      ]
     },
     "execution_count": 86,
     "metadata": {},
     "output_type": "execute_result"
    }
   ],
   "source": [
    "aware_time"
   ]
  },
  {
   "cell_type": "code",
   "execution_count": 98,
   "id": "round-swaziland",
   "metadata": {},
   "outputs": [],
   "source": [
    "def aware_datetime_to_ical_date_with_utc_time(aware_datetime: dt.datetime) -> str:\n",
    "    \"\"\" \n",
    "      Convert time-zone aware datetime to DATE-TIME of icalendar in Form #2. This\n",
    "      is a quote from the specs in https://tools.ietf.org/html/rfc5545:\n",
    "    \n",
    "      FORM #2: DATE WITH UTC TIME\n",
    "\n",
    "      The date with UTC time, or absolute time, is identified by a LATIN\n",
    "      CAPITAL LETTER Z suffix character, the UTC designator, appended to\n",
    "      the time value.  For example, the following represents January 19,\n",
    "      1998, at 0700 UTC:\n",
    "\n",
    "      19980119T070000Z \"\"\"\n",
    "    \n",
    "    utc_timezone = pytz.timezone('UTC')\n",
    "    utc_datetime =  aware_datetime.astimezone(utc_timezone)\n",
    "    \n",
    "    return utc_datetime.strftime(format=\"%Y%m%dT%H%M%SZ\")"
   ]
  },
  {
   "cell_type": "code",
   "execution_count": null,
   "id": "preceding-completion",
   "metadata": {},
   "outputs": [],
   "source": []
  }
 ],
 "metadata": {
  "kernelspec": {
   "display_name": "Python 3",
   "language": "python",
   "name": "python3"
  },
  "language_info": {
   "codemirror_mode": {
    "name": "ipython",
    "version": 3
   },
   "file_extension": ".py",
   "mimetype": "text/x-python",
   "name": "python",
   "nbconvert_exporter": "python",
   "pygments_lexer": "ipython3",
   "version": "3.7.8"
  }
 },
 "nbformat": 4,
 "nbformat_minor": 5
}
