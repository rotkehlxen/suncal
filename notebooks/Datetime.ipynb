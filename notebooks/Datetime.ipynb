{
 "cells": [
  {
   "cell_type": "code",
   "execution_count": 44,
   "id": "sudden-clear",
   "metadata": {},
   "outputs": [],
   "source": [
    "import datetime as dt"
   ]
  },
  {
   "cell_type": "code",
   "execution_count": 73,
   "id": "skilled-dating",
   "metadata": {},
   "outputs": [],
   "source": [
    "# datetime constructor with time zone information\n",
    "# class datetime.datetime(year, month, day, hour=0, minute=0, second=0, microsecond=0, tzinfo=None, *, fold=0)\n",
    "\n",
    "# tzinfo can be of class dt.timezone\n",
    "# offset argument of dt.timezone has to be a dt.timedelta object\n",
    "# name   argument of dt.timezone is optional\n",
    "test_time = dt.datetime(2021, 2, 28, hour=16, minute=30, second=0, \n",
    "                        tzinfo=dt.timezone(offset=dt.timedelta(hours=1), name=\"Europe/Berlin\"))"
   ]
  },
  {
   "cell_type": "code",
   "execution_count": 74,
   "id": "fantastic-given",
   "metadata": {},
   "outputs": [
    {
     "data": {
      "text/plain": [
       "'04:30 PM'"
      ]
     },
     "execution_count": 74,
     "metadata": {},
     "output_type": "execute_result"
    }
   ],
   "source": [
    "# convert to am/pm format\n",
    "test_time.strftime(\"%I:%M %p\")"
   ]
  },
  {
   "cell_type": "code",
   "execution_count": 75,
   "id": "decimal-macintosh",
   "metadata": {},
   "outputs": [
    {
     "data": {
      "text/plain": [
       "datetime.datetime(2021, 2, 28, 16, 30, tzinfo=datetime.timezone(datetime.timedelta(seconds=3600), 'CET'))"
      ]
     },
     "execution_count": 75,
     "metadata": {},
     "output_type": "execute_result"
    }
   ],
   "source": [
    "# another version of timezone\n",
    "test_time.astimezone()"
   ]
  },
  {
   "cell_type": "code",
   "execution_count": null,
   "id": "matched-bronze",
   "metadata": {},
   "outputs": [],
   "source": []
  }
 ],
 "metadata": {
  "kernelspec": {
   "display_name": "Python 3",
   "language": "python",
   "name": "python3"
  },
  "language_info": {
   "codemirror_mode": {
    "name": "ipython",
    "version": 3
   },
   "file_extension": ".py",
   "mimetype": "text/x-python",
   "name": "python",
   "nbconvert_exporter": "python",
   "pygments_lexer": "ipython3",
   "version": "3.7.8"
  }
 },
 "nbformat": 4,
 "nbformat_minor": 5
}
