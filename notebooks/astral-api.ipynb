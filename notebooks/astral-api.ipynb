{
 "cells": [
  {
   "cell_type": "code",
   "execution_count": 1,
   "id": "several-sunset",
   "metadata": {},
   "outputs": [],
   "source": [
    "import numpy\n",
    "import datetime as dt\n",
    "from astral import LocationInfo\n",
    "from astral.location import Location\n",
    "from astral.geocoder import database, group, lookup_in_group\n",
    "import pytz"
   ]
  },
  {
   "cell_type": "code",
   "execution_count": 2,
   "id": "amateur-prospect",
   "metadata": {},
   "outputs": [],
   "source": [
    "# calculate sunrise for Berlin\n",
    "# name and region can be any value you like\n",
    "city=LocationInfo(name=\"Berlin\", region=\"Germany\", timezone=\"Europe/Berlin\", \n",
    "                  latitude=52.547302, longitude=13.390178)"
   ]
  },
  {
   "cell_type": "code",
   "execution_count": 3,
   "id": "supported-commercial",
   "metadata": {},
   "outputs": [],
   "source": [
    "berlin = Location(city)"
   ]
  },
  {
   "cell_type": "code",
   "execution_count": 4,
   "id": "pressing-newton",
   "metadata": {},
   "outputs": [
    {
     "data": {
      "text/plain": [
       "(datetime.datetime(2021, 2, 23, 6, 43, 57, 949737, tzinfo=<DstTzInfo 'Europe/Berlin' CET+1:00:00 STD>),\n",
       " datetime.datetime(2021, 2, 23, 7, 52, 36, 472881, tzinfo=<DstTzInfo 'Europe/Berlin' CET+1:00:00 STD>))"
      ]
     },
     "execution_count": 4,
     "metadata": {},
     "output_type": "execute_result"
    }
   ],
   "source": [
    "berlin.golden_hour()"
   ]
  },
  {
   "cell_type": "code",
   "execution_count": 9,
   "id": "oriental-advertising",
   "metadata": {},
   "outputs": [
    {
     "data": {
      "text/plain": [
       "{'dawn': datetime.datetime(2021, 2, 22, 6, 32, 53, 728316, tzinfo=<DstTzInfo 'Europe/Berlin' CET+1:00:00 STD>),\n",
       " 'sunrise': datetime.datetime(2021, 2, 22, 7, 8, 17, 673058, tzinfo=<DstTzInfo 'Europe/Berlin' CET+1:00:00 STD>),\n",
       " 'noon': datetime.datetime(2021, 2, 22, 12, 19, 57, tzinfo=<DstTzInfo 'Europe/Berlin' CET+1:00:00 STD>),\n",
       " 'sunset': datetime.datetime(2021, 2, 22, 17, 32, 20, 225256, tzinfo=<DstTzInfo 'Europe/Berlin' CET+1:00:00 STD>),\n",
       " 'dusk': datetime.datetime(2021, 2, 22, 18, 7, 48, 853790, tzinfo=<DstTzInfo 'Europe/Berlin' CET+1:00:00 STD>)}"
      ]
     },
     "execution_count": 9,
     "metadata": {},
     "output_type": "execute_result"
    }
   ],
   "source": [
    "# Sun dates for tomorrow\n",
    "sun_params = berlin.sun(date=dt.date(2021, 2, 22))\n",
    "sun_params"
   ]
  },
  {
   "cell_type": "code",
   "execution_count": 11,
   "id": "editorial-vampire",
   "metadata": {},
   "outputs": [
    {
     "data": {
      "text/plain": [
       "'2021-02-22T06:32:53.728316+01:00'"
      ]
     },
     "execution_count": 11,
     "metadata": {},
     "output_type": "execute_result"
    }
   ],
   "source": [
    "# convert datetime object to google cal iso format\n",
    "sun_params['dawn'].isoformat()"
   ]
  },
  {
   "cell_type": "code",
   "execution_count": 7,
   "id": "magnetic-palestine",
   "metadata": {},
   "outputs": [
    {
     "data": {
      "text/plain": [
       "astral.LocationInfo"
      ]
     },
     "execution_count": 7,
     "metadata": {},
     "output_type": "execute_result"
    }
   ],
   "source": [
    "# this is a dataclass defined in __init__.py!\n",
    "type(city)"
   ]
  },
  {
   "cell_type": "markdown",
   "id": "novel-flooring",
   "metadata": {},
   "source": [
    "## Obtain location info from db of this package"
   ]
  },
  {
   "cell_type": "code",
   "execution_count": 54,
   "id": "dying-charger",
   "metadata": {},
   "outputs": [],
   "source": [
    "# imports the database of cities and associated timezones, longitude & latitude and so on\n",
    "db=database()"
   ]
  },
  {
   "cell_type": "code",
   "execution_count": 20,
   "id": "cognitive-finder",
   "metadata": {},
   "outputs": [],
   "source": [
    "# dict with keys being European cities and the values are LocationInfo objects!!\n",
    "europe = group('Europe', db)"
   ]
  },
  {
   "cell_type": "code",
   "execution_count": 21,
   "id": "outstanding-growing",
   "metadata": {},
   "outputs": [
    {
     "data": {
      "text/plain": [
       "LocationInfo(name='Berlin', region='Germany', timezone='Europe/Berlin', latitude=52.5, longitude=13.416666666666666)"
      ]
     },
     "execution_count": 21,
     "metadata": {},
     "output_type": "execute_result"
    }
   ],
   "source": [
    "lookup_in_group('Berlin', europe)"
   ]
  },
  {
   "cell_type": "code",
   "execution_count": 26,
   "id": "metric-samba",
   "metadata": {},
   "outputs": [
    {
     "data": {
      "text/plain": [
       "[LocationInfo(name='Berlin', region='Germany', timezone='Europe/Berlin', latitude=52.5, longitude=13.416666666666666)]"
      ]
     },
     "execution_count": 26,
     "metadata": {},
     "output_type": "execute_result"
    }
   ],
   "source": [
    "europe['berlin']"
   ]
  },
  {
   "cell_type": "code",
   "execution_count": 28,
   "id": "reported-bhutan",
   "metadata": {},
   "outputs": [
    {
     "data": {
      "text/plain": [
       "dict_keys(['asia', 'africa', 'australia', 'europe', 'indian', 'pacific', 'america', 'etc', 'brazil', 'utc', 'us', 'atlantic'])"
      ]
     },
     "execution_count": 28,
     "metadata": {},
     "output_type": "execute_result"
    }
   ],
   "source": [
    "db.keys()"
   ]
  },
  {
   "cell_type": "code",
   "execution_count": null,
   "id": "stopped-casino",
   "metadata": {},
   "outputs": [],
   "source": []
  }
 ],
 "metadata": {
  "kernelspec": {
   "display_name": "Python 3",
   "language": "python",
   "name": "python3"
  },
  "language_info": {
   "codemirror_mode": {
    "name": "ipython",
    "version": 3
   },
   "file_extension": ".py",
   "mimetype": "text/x-python",
   "name": "python",
   "nbconvert_exporter": "python",
   "pygments_lexer": "ipython3",
   "version": "3.7.8"
  }
 },
 "nbformat": 4,
 "nbformat_minor": 5
}
