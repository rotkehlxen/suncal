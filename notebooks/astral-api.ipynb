{
 "cells": [
  {
   "cell_type": "code",
   "execution_count": 13,
   "id": "several-sunset",
   "metadata": {},
   "outputs": [],
   "source": [
    "import numpy\n",
    "import datetime as dt\n",
    "from astral import LocationInfo\n",
    "from astral.location import Location\n",
    "from astral.geocoder import database, group, lookup_in_group\n",
    "import pytz\n",
    "from astral.sun import sun\n",
    "from pydantic import BaseModel"
   ]
  },
  {
   "cell_type": "code",
   "execution_count": 41,
   "id": "amateur-prospect",
   "metadata": {},
   "outputs": [],
   "source": [
    "# calculate sunrise for Berlin\n",
    "# name and region can be any value you like\n",
    "city=LocationInfo(name=\"Berlin\", region=\"Germany\", timezone=\"Europe/Berlin\", \n",
    "                  latitude=52.547302, longitude=13.390178)"
   ]
  },
  {
   "cell_type": "code",
   "execution_count": 42,
   "id": "supported-commercial",
   "metadata": {},
   "outputs": [],
   "source": [
    "berlin = Location(city)"
   ]
  },
  {
   "cell_type": "code",
   "execution_count": 43,
   "id": "pressing-newton",
   "metadata": {},
   "outputs": [
    {
     "data": {
      "text/plain": [
       "(datetime.datetime(2021, 2, 28, 6, 33, 16, 427625, tzinfo=<DstTzInfo 'Europe/Berlin' CET+1:00:00 STD>),\n",
       " datetime.datetime(2021, 2, 28, 7, 40, 49, 756620, tzinfo=<DstTzInfo 'Europe/Berlin' CET+1:00:00 STD>))"
      ]
     },
     "execution_count": 43,
     "metadata": {},
     "output_type": "execute_result"
    }
   ],
   "source": [
    "berlin.golden_hour()"
   ]
  },
  {
   "cell_type": "code",
   "execution_count": 44,
   "id": "oriental-advertising",
   "metadata": {},
   "outputs": [
    {
     "data": {
      "text/plain": [
       "{'dawn': datetime.datetime(2021, 2, 28, 6, 20, 14, 345088, tzinfo=<DstTzInfo 'Europe/Berlin' CET+1:00:00 STD>),\n",
       " 'sunrise': datetime.datetime(2021, 2, 28, 6, 55, 13, 194125, tzinfo=<DstTzInfo 'Europe/Berlin' CET+1:00:00 STD>),\n",
       " 'noon': datetime.datetime(2021, 2, 28, 12, 19, tzinfo=<DstTzInfo 'Europe/Berlin' CET+1:00:00 STD>),\n",
       " 'sunset': datetime.datetime(2021, 2, 28, 17, 43, 30, 383792, tzinfo=<DstTzInfo 'Europe/Berlin' CET+1:00:00 STD>),\n",
       " 'dusk': datetime.datetime(2021, 2, 28, 18, 18, 34, 568493, tzinfo=<DstTzInfo 'Europe/Berlin' CET+1:00:00 STD>)}"
      ]
     },
     "execution_count": 44,
     "metadata": {},
     "output_type": "execute_result"
    }
   ],
   "source": [
    "# Sun dates for tomorrow\n",
    "sun_params = berlin.sun(date=dt.date(2021, 2, 28))\n",
    "sun_params"
   ]
  },
  {
   "cell_type": "code",
   "execution_count": 11,
   "id": "editorial-vampire",
   "metadata": {},
   "outputs": [
    {
     "data": {
      "text/plain": [
       "'2021-02-22T06:32:53.728316+01:00'"
      ]
     },
     "execution_count": 11,
     "metadata": {},
     "output_type": "execute_result"
    }
   ],
   "source": [
    "# convert datetime object to google cal iso format\n",
    "sun_params['dawn'].isoformat()"
   ]
  },
  {
   "cell_type": "code",
   "execution_count": 7,
   "id": "magnetic-palestine",
   "metadata": {},
   "outputs": [
    {
     "data": {
      "text/plain": [
       "astral.LocationInfo"
      ]
     },
     "execution_count": 7,
     "metadata": {},
     "output_type": "execute_result"
    }
   ],
   "source": [
    "# this is a dataclass defined in __init__.py!\n",
    "type(city)"
   ]
  },
  {
   "cell_type": "markdown",
   "id": "novel-flooring",
   "metadata": {},
   "source": [
    "## Obtain location info from db of this package"
   ]
  },
  {
   "cell_type": "code",
   "execution_count": 2,
   "id": "dying-charger",
   "metadata": {},
   "outputs": [],
   "source": [
    "# imports the database of cities and associated timezones, longitude & latitude and so on\n",
    "db=database()"
   ]
  },
  {
   "cell_type": "code",
   "execution_count": 3,
   "id": "cognitive-finder",
   "metadata": {},
   "outputs": [],
   "source": [
    "# dict with keys being European cities and the values are LocationInfo objects!!\n",
    "europe = group('Europe', db)"
   ]
  },
  {
   "cell_type": "code",
   "execution_count": 4,
   "id": "outstanding-growing",
   "metadata": {},
   "outputs": [
    {
     "data": {
      "text/plain": [
       "LocationInfo(name='Berlin', region='Germany', timezone='Europe/Berlin', latitude=52.5, longitude=13.416666666666666)"
      ]
     },
     "execution_count": 4,
     "metadata": {},
     "output_type": "execute_result"
    }
   ],
   "source": [
    "lookup_in_group('Berlin', europe)"
   ]
  },
  {
   "cell_type": "code",
   "execution_count": 5,
   "id": "metric-samba",
   "metadata": {},
   "outputs": [
    {
     "data": {
      "text/plain": [
       "[LocationInfo(name='Berlin', region='Germany', timezone='Europe/Berlin', latitude=52.5, longitude=13.416666666666666)]"
      ]
     },
     "execution_count": 5,
     "metadata": {},
     "output_type": "execute_result"
    }
   ],
   "source": [
    "europe['berlin']"
   ]
  },
  {
   "cell_type": "code",
   "execution_count": 6,
   "id": "reported-bhutan",
   "metadata": {},
   "outputs": [
    {
     "data": {
      "text/plain": [
       "dict_keys(['asia', 'africa', 'australia', 'europe', 'indian', 'pacific', 'america', 'etc', 'brazil', 'utc', 'us', 'atlantic'])"
      ]
     },
     "execution_count": 6,
     "metadata": {},
     "output_type": "execute_result"
    }
   ],
   "source": [
    "db.keys()"
   ]
  },
  {
   "cell_type": "markdown",
   "id": "photographic-disabled",
   "metadata": {},
   "source": [
    "## How much information do we need in LocationInfo?"
   ]
  },
  {
   "cell_type": "code",
   "execution_count": 24,
   "id": "chemical-white",
   "metadata": {},
   "outputs": [],
   "source": [
    "info=LocationInfo(timezone=\"Europe/Berlin\", latitude=52.547302, longitude=13.390178)\n",
    "berlin = Location(info=info)"
   ]
  },
  {
   "cell_type": "code",
   "execution_count": 25,
   "id": "modern-zealand",
   "metadata": {},
   "outputs": [
    {
     "data": {
      "text/plain": [
       "Greenwich/England, tz=Europe/Berlin, lat=52.55, lon=13.39"
      ]
     },
     "execution_count": 25,
     "metadata": {},
     "output_type": "execute_result"
    }
   ],
   "source": [
    "# not setting name and region does not hurt, but sets defaults Greenwich England, which might be confusing if shown\n",
    "# as output somewhere in the process\n",
    "berlin"
   ]
  },
  {
   "cell_type": "code",
   "execution_count": 39,
   "id": "refined-mission",
   "metadata": {},
   "outputs": [
    {
     "data": {
      "text/plain": [
       "datetime.datetime(2021, 3, 1, 6, 52, 59, 599100, tzinfo=<DstTzInfo 'Europe/Berlin' CET+1:00:00 STD>)"
      ]
     },
     "execution_count": 39,
     "metadata": {},
     "output_type": "execute_result"
    }
   ],
   "source": [
    "berlin.sunrise(date=dt.date(2021,3,1))"
   ]
  },
  {
   "cell_type": "code",
   "execution_count": 40,
   "id": "educational-liberal",
   "metadata": {},
   "outputs": [
    {
     "data": {
      "text/plain": [
       "(datetime.datetime(2021, 3, 1, 6, 31, 5, 252877, tzinfo=<DstTzInfo 'Europe/Berlin' CET+1:00:00 STD>),\n",
       " datetime.datetime(2021, 3, 1, 7, 38, 27, 179397, tzinfo=<DstTzInfo 'Europe/Berlin' CET+1:00:00 STD>))"
      ]
     },
     "execution_count": 40,
     "metadata": {},
     "output_type": "execute_result"
    }
   ],
   "source": [
    "berlin.golden_hour(date=dt.date(2021,3,1))"
   ]
  },
  {
   "cell_type": "code",
   "execution_count": 45,
   "id": "funded-bangladesh",
   "metadata": {},
   "outputs": [],
   "source": [
    "# try this for a different location and validate results online\n",
    "info=LocationInfo(timezone='America/Los_Angeles', latitude=37.485215, longitude=-122.236355)\n",
    "redwoodcity = Location(info)"
   ]
  },
  {
   "cell_type": "code",
   "execution_count": 46,
   "id": "logical-increase",
   "metadata": {},
   "outputs": [
    {
     "data": {
      "text/plain": [
       "datetime.datetime(2021, 3, 1, 6, 39, 53, 59867, tzinfo=<DstTzInfo 'America/Los_Angeles' PST-1 day, 16:00:00 STD>)"
      ]
     },
     "execution_count": 46,
     "metadata": {},
     "output_type": "execute_result"
    }
   ],
   "source": [
    "# yes, seems to be correct!\n",
    "redwoodcity.sunrise(date=dt.date(2021,3,1))"
   ]
  },
  {
   "cell_type": "markdown",
   "id": "acquired-exploration",
   "metadata": {},
   "source": [
    "## Astral wrapper draft"
   ]
  },
  {
   "cell_type": "code",
   "execution_count": 18,
   "id": "removable-vintage",
   "metadata": {},
   "outputs": [],
   "source": [
    "class Celestial(BaseModel):\n",
    "         \n",
    "    timezone : str\n",
    "    date : dt.date\n",
    "    longitude : float\n",
    "    latitude: float\n",
    "    \n",
    "    @property\n",
    "    def info(self):\n",
    "        # name and region are of no consequence to any of the calculations\n",
    "        return LocationInfo(timezone=self.timezone, latitude=self.latitude, longitude=self.longitude,\n",
    "                            name='undefined_name', region='undefinded_region')\n",
    "    \n",
    "    @property\n",
    "    def location(self):\n",
    "        return Location(self.info)\n",
    "    \n",
    "    @property\n",
    "    def event(self):\n",
    "        sunrise    = self.location.sunrise(self.date)\n",
    "        sunset     = self.location.sunset(self.date)\n",
    "        goldenhour = self.location.golden_hour(self.date)\n",
    "        \n",
    "        return {\n",
    "            'sunrise': {'start': sunrise, 'end': sunrise},\n",
    "            'sunset': {'start': sunset, 'end': sunset},\n",
    "            'goldenhour': {'start': goldenhour[0], 'end': goldenhour[1]},\n",
    "        }"
   ]
  },
  {
   "cell_type": "code",
   "execution_count": 19,
   "id": "entertaining-vector",
   "metadata": {},
   "outputs": [],
   "source": [
    "test = Celestial(timezone='Europe/Berlin', date=dt.date(2021, 3, 1), longitude=13.390178, latitude=52.547302)"
   ]
  },
  {
   "cell_type": "code",
   "execution_count": 20,
   "id": "hairy-bookmark",
   "metadata": {},
   "outputs": [
    {
     "data": {
      "text/plain": [
       "{'start': datetime.datetime(2021, 3, 1, 6, 52, 59, 599100, tzinfo=<DstTzInfo 'Europe/Berlin' CET+1:00:00 STD>),\n",
       " 'end': datetime.datetime(2021, 3, 1, 6, 52, 59, 599100, tzinfo=<DstTzInfo 'Europe/Berlin' CET+1:00:00 STD>)}"
      ]
     },
     "execution_count": 20,
     "metadata": {},
     "output_type": "execute_result"
    }
   ],
   "source": [
    "test.event['sunrise']"
   ]
  },
  {
   "cell_type": "code",
   "execution_count": 21,
   "id": "marked-benefit",
   "metadata": {},
   "outputs": [],
   "source": [
    "# after updating the date, we get newly calculated events!\n",
    "test.date = dt.date(2021, 3, 2)"
   ]
  },
  {
   "cell_type": "code",
   "execution_count": 22,
   "id": "different-ladder",
   "metadata": {},
   "outputs": [
    {
     "data": {
      "text/plain": [
       "{'start': datetime.datetime(2021, 3, 2, 6, 50, 45, 291119, tzinfo=<DstTzInfo 'Europe/Berlin' CET+1:00:00 STD>),\n",
       " 'end': datetime.datetime(2021, 3, 2, 6, 50, 45, 291119, tzinfo=<DstTzInfo 'Europe/Berlin' CET+1:00:00 STD>)}"
      ]
     },
     "execution_count": 22,
     "metadata": {},
     "output_type": "execute_result"
    }
   ],
   "source": [
    "test.event['sunrise']"
   ]
  },
  {
   "cell_type": "code",
   "execution_count": null,
   "id": "certain-satisfaction",
   "metadata": {},
   "outputs": [],
   "source": []
  }
 ],
 "metadata": {
  "kernelspec": {
   "display_name": "Python 3",
   "language": "python",
   "name": "python3"
  },
  "language_info": {
   "codemirror_mode": {
    "name": "ipython",
    "version": 3
   },
   "file_extension": ".py",
   "mimetype": "text/x-python",
   "name": "python",
   "nbconvert_exporter": "python",
   "pygments_lexer": "ipython3",
   "version": "3.7.8"
  }
 },
 "nbformat": 4,
 "nbformat_minor": 5
}
