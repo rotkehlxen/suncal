{
 "cells": [
  {
   "cell_type": "code",
   "execution_count": 15,
   "id": "frozen-snake",
   "metadata": {},
   "outputs": [
    {
     "name": "stdout",
     "output_type": "stream",
     "text": [
      "👍\n"
     ]
    }
   ],
   "source": [
    "# Unicode string\n",
    "print(u'\\U0001F44D')"
   ]
  },
  {
   "cell_type": "code",
   "execution_count": 14,
   "id": "elect-waters",
   "metadata": {},
   "outputs": [
    {
     "name": "stdout",
     "output_type": "stream",
     "text": [
      "🥍\n"
     ]
    }
   ],
   "source": [
    "# in mac, go to the language menu and choose \"Emoji and symbols\", then just copy and paste the emoji! This is totally\n",
    "# fine as these images are just unicode characters and thus are equivalent to any letter of the alphabet!! \n",
    "string = '🥍'\n",
    "print(string)"
   ]
  }
 ],
 "metadata": {
  "kernelspec": {
   "display_name": "Python 3",
   "language": "python",
   "name": "python3"
  },
  "language_info": {
   "codemirror_mode": {
    "name": "ipython",
    "version": 3
   },
   "file_extension": ".py",
   "mimetype": "text/x-python",
   "name": "python",
   "nbconvert_exporter": "python",
   "pygments_lexer": "ipython3",
   "version": "3.7.8"
  }
 },
 "nbformat": 4,
 "nbformat_minor": 5
}
